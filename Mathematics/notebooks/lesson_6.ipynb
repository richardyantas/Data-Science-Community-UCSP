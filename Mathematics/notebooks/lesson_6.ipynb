{
  "nbformat": 4,
  "nbformat_minor": 0,
  "metadata": {
    "colab": {
      "name": "lesson_6.ipynb",
      "version": "0.3.2",
      "provenance": [],
      "collapsed_sections": []
    },
    "kernelspec": {
      "name": "python3",
      "display_name": "Python 3"
    }
  },
  "cells": [
    {
      "metadata": {
        "id": "r63rGyhoGLd5",
        "colab_type": "text"
      },
      "cell_type": "markdown",
      "source": [
        "**`PCA and Dimensionality Reduction`**"
      ]
    },
    {
      "metadata": {
        "id": "2vvhE7ZVG8PL",
        "colab_type": "text"
      },
      "cell_type": "markdown",
      "source": [
        "Often, the desired goal is to reduce the dimensions of a d-dimensional dataset by projecting it onto a (k)-dimensional subspace (where k<d) in order to increase the computational efficiency while retaining most of the information. ​"
      ]
    },
    {
      "metadata": {
        "id": "JgnOBL0kpUcS",
        "colab_type": "text"
      },
      "cell_type": "markdown",
      "source": [
        "**Why PCA?**\n",
        "\n",
        " If your learning algorithm is too slow because the input dimension is too high, then using PCA to speed it up can be a reasonable choice. This is probably the most common application of PCA. Another common application of PCA is for data visualization.\n",
        " "
      ]
    },
    {
      "metadata": {
        "id": "OgE7OAWFHku1",
        "colab_type": "text"
      },
      "cell_type": "markdown",
      "source": [
        "**A Summary of the PCA Approach​**\n",
        "\n",
        "\n",
        "\n",
        "*   Standardize the data.\n",
        "*   Obtain the Eigenvectors and Eigenvalues from the covariance matrix or correlation matrix.\n",
        "*   Sort eigenvalues in descending order and choose the k eigenvectors that correspond to the k largest eigenvalues where k is the number of dimensions of the new feature subspace (k≤d).​\n",
        "*   Construct the projection matrix W from the selected k eigenvectors.​\n",
        "*   Transform the original dataset X via W to obtain a k-dimensional feature subspace Y.​"
      ]
    },
    {
      "metadata": {
        "id": "2-aDs6bkHk7y",
        "colab_type": "text"
      },
      "cell_type": "markdown",
      "source": [
        "**Example: Iris Dataset​**\n",
        "\n",
        "The iris dataset contains measurements for 150 iris flowers from three different species.​\n",
        "\n",
        "The three classes in the Iris dataset are:\n",
        "    \n",
        "\n",
        "1.  Iris-setosa (n=50)​\n",
        "2.  Iris-versicolor (n=50)​\n",
        "3.  Iris-virginica (n=50)​\n",
        "\n",
        "​\n",
        "\n",
        "And the four features of in Iris dataset are:​\n",
        "\n",
        "1. sepal length in cm​\n",
        "2. sepal width in cm​\n",
        "3. petal length in cm​\n",
        "4. petal width in cm​"
      ]
    },
    {
      "metadata": {
        "id": "TjBOfbdDHlWC",
        "colab_type": "text"
      },
      "cell_type": "markdown",
      "source": [
        "In order to load the Iris data directly from the UCI repository, we are going to use the superb pandas library. If you haven't used pandas yet, I want encourage you to check out the pandas tutorials. If I had to name one Python library that makes working with data a wonderfully simple task, this would definitely be pandas!"
      ]
    },
    {
      "metadata": {
        "id": "hOk491InYTkF",
        "colab_type": "text"
      },
      "cell_type": "markdown",
      "source": [
        "**Loading the Dataset**"
      ]
    },
    {
      "metadata": {
        "id": "NeomCgBnG-Dp",
        "colab_type": "code",
        "colab": {
          "base_uri": "https://localhost:8080/",
          "height": 206
        },
        "outputId": "fcb20bfd-e168-49d3-cfc1-8d92a36f9aa8"
      },
      "cell_type": "code",
      "source": [
        "import pandas as pd\n",
        "\n",
        "df = pd.read_csv(\n",
        "    filepath_or_buffer='https://archive.ics.uci.edu/ml/machine-learning-databases/iris/iris.data', \n",
        "    header=None, \n",
        "    sep=',')\n",
        "\n",
        "df.columns=['sepal_len', 'sepal_wid', 'petal_len', 'petal_wid', 'class']\n",
        "df.dropna(how=\"all\", inplace=True) # drops the empty line at file-end\n",
        "\n",
        "df.tail()\n"
      ],
      "execution_count": 1,
      "outputs": [
        {
          "output_type": "execute_result",
          "data": {
            "text/html": [
              "<div>\n",
              "<style scoped>\n",
              "    .dataframe tbody tr th:only-of-type {\n",
              "        vertical-align: middle;\n",
              "    }\n",
              "\n",
              "    .dataframe tbody tr th {\n",
              "        vertical-align: top;\n",
              "    }\n",
              "\n",
              "    .dataframe thead th {\n",
              "        text-align: right;\n",
              "    }\n",
              "</style>\n",
              "<table border=\"1\" class=\"dataframe\">\n",
              "  <thead>\n",
              "    <tr style=\"text-align: right;\">\n",
              "      <th></th>\n",
              "      <th>sepal_len</th>\n",
              "      <th>sepal_wid</th>\n",
              "      <th>petal_len</th>\n",
              "      <th>petal_wid</th>\n",
              "      <th>class</th>\n",
              "    </tr>\n",
              "  </thead>\n",
              "  <tbody>\n",
              "    <tr>\n",
              "      <th>145</th>\n",
              "      <td>6.7</td>\n",
              "      <td>3.0</td>\n",
              "      <td>5.2</td>\n",
              "      <td>2.3</td>\n",
              "      <td>Iris-virginica</td>\n",
              "    </tr>\n",
              "    <tr>\n",
              "      <th>146</th>\n",
              "      <td>6.3</td>\n",
              "      <td>2.5</td>\n",
              "      <td>5.0</td>\n",
              "      <td>1.9</td>\n",
              "      <td>Iris-virginica</td>\n",
              "    </tr>\n",
              "    <tr>\n",
              "      <th>147</th>\n",
              "      <td>6.5</td>\n",
              "      <td>3.0</td>\n",
              "      <td>5.2</td>\n",
              "      <td>2.0</td>\n",
              "      <td>Iris-virginica</td>\n",
              "    </tr>\n",
              "    <tr>\n",
              "      <th>148</th>\n",
              "      <td>6.2</td>\n",
              "      <td>3.4</td>\n",
              "      <td>5.4</td>\n",
              "      <td>2.3</td>\n",
              "      <td>Iris-virginica</td>\n",
              "    </tr>\n",
              "    <tr>\n",
              "      <th>149</th>\n",
              "      <td>5.9</td>\n",
              "      <td>3.0</td>\n",
              "      <td>5.1</td>\n",
              "      <td>1.8</td>\n",
              "      <td>Iris-virginica</td>\n",
              "    </tr>\n",
              "  </tbody>\n",
              "</table>\n",
              "</div>"
            ],
            "text/plain": [
              "     sepal_len  sepal_wid  petal_len  petal_wid           class\n",
              "145        6.7        3.0        5.2        2.3  Iris-virginica\n",
              "146        6.3        2.5        5.0        1.9  Iris-virginica\n",
              "147        6.5        3.0        5.2        2.0  Iris-virginica\n",
              "148        6.2        3.4        5.4        2.3  Iris-virginica\n",
              "149        5.9        3.0        5.1        1.8  Iris-virginica"
            ]
          },
          "metadata": {
            "tags": []
          },
          "execution_count": 1
        }
      ]
    },
    {
      "metadata": {
        "id": "oynXVsMdWMFJ",
        "colab_type": "code",
        "colab": {}
      },
      "cell_type": "code",
      "source": [
        "\n",
        "\n",
        "# split data table into data X and class labels y\n",
        "\n",
        "X = df.iloc[:,0:4].values\n",
        "y = df.iloc[:,4].values\n",
        "#print(X)\n",
        "#print(y)\n"
      ],
      "execution_count": 0,
      "outputs": []
    },
    {
      "metadata": {
        "id": "lIrTYtsEYWIe",
        "colab_type": "text"
      },
      "cell_type": "markdown",
      "source": [
        "**Standardizing**\n",
        "\n",
        "Whether to standardize the data prior to a PCA on the covariance matrix depends on the measurement scales of the original features. Since PCA yields a feature subspace that maximizes the variance along the axes, it makes sense to standardize the data, especially, if it was measured on different scales. Although, all features in the Iris dataset were measured in centimeters, let us continue with the transformation of the data onto unit scale (mean=0 and variance=1), which is a requirement for the optimal performance of many machine learning algorithms."
      ]
    },
    {
      "metadata": {
        "id": "M8Y-sU2PabFw",
        "colab_type": "code",
        "colab": {}
      },
      "cell_type": "code",
      "source": [
        "\n",
        "#print(X.mean(axis = 0))\n",
        "from sklearn.preprocessing import StandardScaler\n",
        "X_std = StandardScaler().fit_transform(X)\n",
        "#print(X_std.mean(axis = 0))"
      ],
      "execution_count": 0,
      "outputs": []
    },
    {
      "metadata": {
        "id": "htxn4sTlcfwH",
        "colab_type": "text"
      },
      "cell_type": "markdown",
      "source": [
        "**Eigendecomposition - Computing Eigenvectors and Eigenvalues**\n",
        "\n",
        "The eigenvectors and eigenvalues of a covariance (or correlation) matrix represent the \"core\" of a PCA: The eigenvectors (principal components) determine the directions of the new feature space, and the eigenvalues determine their magnitude. In other words, the eigenvalues explain the variance of the data along the new feature axes.\n"
      ]
    },
    {
      "metadata": {
        "id": "7w5AO6qtb3oT",
        "colab_type": "code",
        "colab": {}
      },
      "cell_type": "code",
      "source": [
        "import numpy as np\n",
        "cov_mat = np.cov(X_std.T)\n",
        "#print('Covariance matrix \\n%s' %cov_mat)\n",
        "\n",
        "eig_vals, eig_vecs = np.linalg.eig(cov_mat)\n",
        "\n",
        "#print('Eigenvectors \\n%s' %eig_vecs)\n",
        "#print('\\nEigenvalues \\n%s' %eig_vals)"
      ],
      "execution_count": 0,
      "outputs": []
    },
    {
      "metadata": {
        "id": "2N97PccxgJqg",
        "colab_type": "text"
      },
      "cell_type": "markdown",
      "source": [
        "**Selecting Principal Components**\n",
        "\n",
        "The typical goal of a PCA is to reduce the dimensionality of the original feature space by projecting it onto a smaller subspace, where the eigenvectors will form the axes. However, the eigenvectors only define the directions of the new axis, since they have all the same unit length 1\n"
      ]
    },
    {
      "metadata": {
        "id": "A7DZDj4Igazw",
        "colab_type": "code",
        "colab": {
          "base_uri": "https://localhost:8080/",
          "height": 34
        },
        "outputId": "bb1cfab5-4f37-44be-b280-1904e57ffe9f"
      },
      "cell_type": "code",
      "source": [
        "for ev in eig_vecs:\n",
        "    np.testing.assert_array_almost_equal(1.0, np.linalg.norm(ev))\n",
        "print('Everything ok!')"
      ],
      "execution_count": 53,
      "outputs": [
        {
          "output_type": "stream",
          "text": [
            "Everything ok!\n"
          ],
          "name": "stdout"
        }
      ]
    },
    {
      "metadata": {
        "id": "qZWt0O6ogga_",
        "colab_type": "text"
      },
      "cell_type": "markdown",
      "source": [
        "In order to decide which eigenvector(s) can dropped without losing too much information for the construction of lower-dimensional subspace, we need to inspect the corresponding eigenvalues: The eigenvectors with the lowest eigenvalues bear the least information about the distribution of the data; those are the ones can be dropped.\n",
        "In order to do so, the common approach is to rank the eigenvalues from highest to lowest in order choose the top k eigenvectors."
      ]
    },
    {
      "metadata": {
        "id": "OdNYPhcqgfj8",
        "colab_type": "code",
        "colab": {
          "base_uri": "https://localhost:8080/",
          "height": 104
        },
        "outputId": "fee2ced5-2978-4516-cddd-3765458d3f4d"
      },
      "cell_type": "code",
      "source": [
        "#Make a list of (eigenvalue, eigenvector) tuples\n",
        "eig_pairs = [(np.abs(eig_vals[i]), eig_vecs[:,i]) for i in range(len(eig_vals))]\n",
        "\n",
        "# Sort the (eigenvalue, eigenvector) tuples from high to low\n",
        "eig_pairs.sort()\n",
        "eig_pairs.reverse()\n",
        "\n",
        "# Visually confirm that the list is correctly sorted by decreasing eigenvalues\n",
        "print('Eigenvalues in descending order:')\n",
        "#for i in eig_pairs:\n",
        "#    print(i[0])"
      ],
      "execution_count": 22,
      "outputs": [
        {
          "output_type": "stream",
          "text": [
            "Eigenvalues in descending order:\n",
            "2.930353775589317\n",
            "0.9274036215173419\n",
            "0.14834222648163944\n",
            "0.02074601399559593\n"
          ],
          "name": "stdout"
        }
      ]
    },
    {
      "metadata": {
        "id": "xasFbGuFhKwZ",
        "colab_type": "text"
      },
      "cell_type": "markdown",
      "source": [
        "After sorting the eigenpairs, the next question is \"how many principal components are we going to choose for our new feature subspace?\" A useful measure is the so-called \"explained variance,\" which can be calculated from the eigenvalues. The explained variance tells us how much information (variance) can be attributed to each of the principal components."
      ]
    },
    {
      "metadata": {
        "id": "om9N3H6Hhx2f",
        "colab_type": "code",
        "colab": {
          "base_uri": "https://localhost:8080/",
          "height": 34
        },
        "outputId": "60ccffef-439c-435a-d7a4-f2778a882098"
      },
      "cell_type": "code",
      "source": [
        "tot = sum(eig_vals)\n",
        "#print(tot)\n",
        "var_exp = [(i/tot)*100 for i in sorted(eig_vals, reverse=True)]\n",
        "#print(var_exp)\n",
        "cum_var_exp = np.cumsum(var_exp)\n",
        "print(cum_var_exp)"
      ],
      "execution_count": 27,
      "outputs": [
        {
          "output_type": "stream",
          "text": [
            "[ 72.77045209  95.80097536  99.48480732 100.        ]\n"
          ],
          "name": "stdout"
        }
      ]
    },
    {
      "metadata": {
        "id": "d3Y8_MA5ke62",
        "colab_type": "text"
      },
      "cell_type": "markdown",
      "source": [
        "It's about time to get to the really interesting part: The construction of the projection matrix that will be used to transform the Iris data onto the new feature subspace. Although, the name \"projection matrix\" has a nice ring to it, it is basically just a matrix of our concatenated top k eigenvectors.\n",
        "\n",
        "Here, we are reducing the 4-dimensional feature space to a 2-dimensional feature subspace, by choosing the \"top 2\" eigenvectors with the highest eigenvalues to construct our d×k\n",
        "-dimensional eigenvector matrix W.\n"
      ]
    },
    {
      "metadata": {
        "id": "jyDNO0L0khUP",
        "colab_type": "code",
        "colab": {
          "base_uri": "https://localhost:8080/",
          "height": 104
        },
        "outputId": "2256a8df-390c-459d-a1ab-fdf6cb8533a1"
      },
      "cell_type": "code",
      "source": [
        "matrix_w = np.hstack((eig_pairs[0][1].reshape(4,1), \n",
        "                      eig_pairs[1][1].reshape(4,1)))\n",
        "\n",
        "print('Matrix W:\\n', matrix_w)"
      ],
      "execution_count": 28,
      "outputs": [
        {
          "output_type": "stream",
          "text": [
            "Matrix W:\n",
            " [[ 0.52237162 -0.37231836]\n",
            " [-0.26335492 -0.92555649]\n",
            " [ 0.58125401 -0.02109478]\n",
            " [ 0.56561105 -0.06541577]]\n"
          ],
          "name": "stdout"
        }
      ]
    },
    {
      "metadata": {
        "id": "lHQqAlT2lTYX",
        "colab_type": "text"
      },
      "cell_type": "markdown",
      "source": [
        "**Projection Onto the New Feature Space**\n",
        "\n",
        "In this last step we will use the 4×2-dimensional projection matrix W to transform our samples onto the new subspace via the equation\n",
        "Y=X×W, where Y is a 150×2 matrix of our transformed samples.\n"
      ]
    },
    {
      "metadata": {
        "id": "-rqkKXrllUxs",
        "colab_type": "code",
        "colab": {}
      },
      "cell_type": "code",
      "source": [
        "Y = X_std.dot(matrix_w)\n",
        "#print(Y)"
      ],
      "execution_count": 0,
      "outputs": []
    },
    {
      "metadata": {
        "id": "xUROaJD5sdA_",
        "colab_type": "code",
        "colab": {
          "base_uri": "https://localhost:8080/",
          "height": 1633
        },
        "outputId": "0a8c5120-086e-435f-bd8d-1128beed71b3"
      },
      "cell_type": "code",
      "source": [
        "principalDf = pd.DataFrame(data = Y\n",
        "             , columns = ['principal component 1', 'principal component 2'])\n",
        "\n",
        "#print(Y)\n",
        "finalDf = pd.concat([principalDf, df[['class']]], axis = 1)\n",
        "\n",
        "#print(finalDf)\n",
        "\n",
        "fig = plt.figure(figsize = (8,8))\n",
        "ax = fig.add_subplot(1,1,1) \n",
        "ax.set_xlabel('Principal Component 1', fontsize = 15)\n",
        "ax.set_ylabel('Principal Component 2', fontsize = 15)\n",
        "ax.set_title('2 component PCA', fontsize = 20)\n",
        "\n",
        "targets = ['Iris-setosa', 'Iris-versicolor', 'Iris-virginica']\n",
        "colors = ['r', 'g', 'b']\n",
        "for target, color in zip(targets,colors):\n",
        "    indicesToKeep = finalDf['class'] == target\n",
        "    ax.scatter(finalDf.loc[indicesToKeep, 'principal component 1']\n",
        "               , finalDf.loc[indicesToKeep, 'principal component 2']\n",
        "               , c = color\n",
        "               , s = 50)\n",
        "ax.legend(targets)\n",
        "ax.grid()\n"
      ],
      "execution_count": 52,
      "outputs": [
        {
          "output_type": "stream",
          "text": [
            "     principal component 1  principal component 2           class\n",
            "0                -2.264542              -0.505704     Iris-setosa\n",
            "1                -2.086426               0.655405     Iris-setosa\n",
            "2                -2.367950               0.318477     Iris-setosa\n",
            "3                -2.304197               0.575368     Iris-setosa\n",
            "4                -2.388777              -0.674767     Iris-setosa\n",
            "5                -2.070537              -1.518549     Iris-setosa\n",
            "6                -2.445711              -0.074563     Iris-setosa\n",
            "7                -2.233842              -0.247614     Iris-setosa\n",
            "8                -2.341958               1.095146     Iris-setosa\n",
            "9                -2.188676               0.448629     Iris-setosa\n",
            "10               -2.163487              -1.070596     Iris-setosa\n",
            "11               -2.327378              -0.158587     Iris-setosa\n",
            "12               -2.224083               0.709118     Iris-setosa\n",
            "13               -2.639716               0.938282     Iris-setosa\n",
            "14               -2.192292              -1.889979     Iris-setosa\n",
            "15               -2.251465              -2.722371     Iris-setosa\n",
            "16               -2.202750              -1.513750     Iris-setosa\n",
            "17               -2.190179              -0.514304     Iris-setosa\n",
            "18               -1.894074              -1.431111     Iris-setosa\n",
            "19               -2.339949              -1.158033     Iris-setosa\n",
            "20               -1.914556              -0.430465     Iris-setosa\n",
            "21               -2.204645              -0.952457     Iris-setosa\n",
            "22               -2.774170              -0.489517     Iris-setosa\n",
            "23               -1.820412              -0.106751     Iris-setosa\n",
            "24               -2.228217              -0.162186     Iris-setosa\n",
            "25               -1.957024               0.607893     Iris-setosa\n",
            "26               -2.052063              -0.266014     Iris-setosa\n",
            "27               -2.168194              -0.552016     Iris-setosa\n",
            "28               -2.140306              -0.336640     Iris-setosa\n",
            "29               -2.268790               0.314879     Iris-setosa\n",
            "..                     ...                    ...             ...\n",
            "120               2.040496              -0.907399  Iris-virginica\n",
            "121               0.973915               0.571174  Iris-virginica\n",
            "122               2.898064              -0.397791  Iris-virginica\n",
            "123               1.329194               0.486761  Iris-virginica\n",
            "124               1.704241              -1.014148  Iris-virginica\n",
            "125               1.957728              -1.003335  Iris-virginica\n",
            "126               1.171905               0.318897  Iris-virginica\n",
            "127               1.019781              -0.065543  Iris-virginica\n",
            "128               1.786009               0.193273  Iris-virginica\n",
            "129               1.864778              -0.555382  Iris-virginica\n",
            "130               2.435497              -0.246654  Iris-virginica\n",
            "131               2.316082              -2.626184  Iris-virginica\n",
            "132               1.860371               0.184672  Iris-virginica\n",
            "133               1.111272               0.295986  Iris-virginica\n",
            "134               1.197469               0.817168  Iris-virginica\n",
            "135               2.800949              -0.844748  Iris-virginica\n",
            "136               1.580155              -1.072474  Iris-virginica\n",
            "137               1.347044              -0.422256  Iris-virginica\n",
            "138               0.923433              -0.019230  Iris-virginica\n",
            "139               1.853552              -0.672423  Iris-virginica\n",
            "140               2.016157              -0.610397  Iris-virginica\n",
            "141               1.903117              -0.686025  Iris-virginica\n",
            "142               1.153190               0.701326  Iris-virginica\n",
            "143               2.043308              -0.864685  Iris-virginica\n",
            "144               2.001691              -1.048550  Iris-virginica\n",
            "145               1.870522              -0.382822  Iris-virginica\n",
            "146               1.558492               0.905314  Iris-virginica\n",
            "147               1.520845              -0.266795  Iris-virginica\n",
            "148               1.376391              -1.016362  Iris-virginica\n",
            "149               0.959299               0.022284  Iris-virginica\n",
            "\n",
            "[150 rows x 3 columns]\n"
          ],
          "name": "stdout"
        },
        {
          "output_type": "display_data",
          "data": {
            "image/png": "[encoded data removed]",
            "text/plain": [
              "<matplotlib.figure.Figure at 0x7f76cb4c94a8>"
            ]
          },
          "metadata": {
            "tags": []
          }
        }
      ]
    }
  ]
}